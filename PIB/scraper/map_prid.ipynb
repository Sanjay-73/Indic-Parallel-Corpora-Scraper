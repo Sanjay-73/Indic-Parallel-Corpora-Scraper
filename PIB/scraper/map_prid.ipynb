{
 "cells": [
  {
   "cell_type": "code",
   "execution_count": 1,
   "metadata": {},
   "outputs": [
    {
     "name": "stdout",
     "output_type": "stream",
     "text": [
      "128.43269562721252\n"
     ]
    }
   ],
   "source": [
    "import requests\n",
    "from bs4 import BeautifulSoup\n",
    "import pandas as pd\n",
    "import re\n",
    "import time \n",
    "\n",
    "def extract_PRIDs_from_html(html_content):\n",
    "    soup = BeautifulSoup(html_content, 'html.parser')\n",
    "\n",
    "    prid_language_dict = {}\n",
    "\n",
    "    release_lang_divs = soup.find_all('div', class_='ReleaseLang')\n",
    "    for div in release_lang_divs:\n",
    "        language_tags = div.find_all('a')\n",
    "        for language_tag in language_tags:\n",
    "            language = language_tag.text.strip()\n",
    "            prid = None\n",
    "            prid_match = re.search(r'PRID=(\\d+)', str(language_tag))\n",
    "            if prid_match:\n",
    "                prid = prid_match.group(1)\n",
    "            prid_language_dict[language] = prid\n",
    "\n",
    "    return prid_language_dict if prid_language_dict else None\n",
    "\n",
    "start_time = time.time()\n",
    "base_url = 'https://pib.gov.in/PressReleasePage.aspx?PRID='\n",
    "start_prid = 1900000\n",
    "end_prid = 1900200\n",
    "\n",
    "data = {'Main_PRID': [], 'Language': [], 'Extracted_PRID': []}\n",
    "\n",
    "all_extracted_PRIDs = set()\n",
    "\n",
    "for prid in range(start_prid, end_prid + 1):\n",
    "    \n",
    "    prid = str(prid)\n",
    "    if prid in all_extracted_PRIDs:\n",
    "        #print(f\"PRID={prid} already extracted. Skipping...\")\n",
    "        continue\n",
    "\n",
    "    url = f'{base_url}{prid}'\n",
    "    response = requests.get(url)\n",
    "\n",
    "    if response.status_code == 200:\n",
    "        extracted_PRIDs = extract_PRIDs_from_html(response.text)\n",
    "        #print(extracted_PRIDs)\n",
    "        if extracted_PRIDs is not None:\n",
    "            for language, extracted_prid in extracted_PRIDs.items():\n",
    "                data['Main_PRID'].append(prid)\n",
    "                data['Language'].append(language)\n",
    "                data['Extracted_PRID'].append(extracted_prid)\n",
    "                all_extracted_PRIDs.add(extracted_prid)\n",
    "                all_extracted_PRIDs.add(prid)\n",
    "            #print(f\"Extracted PRIDs for PRID={prid}\")\n",
    "        else:\n",
    "            data['Main_PRID'].append(prid)\n",
    "            data['Language'].append('NaN')\n",
    "            data['Extracted_PRID'].append('NaN')\n",
    "            #print(f\"No PRIDs extracted for PRID={prid}\")\n",
    "\n",
    "    else:\n",
    "        #print(f\"Failed to fetch the URL for PRID={prid}\")\n",
    "        data['Main_PRID'].append(prid)\n",
    "        data['Language'].append('NaN')\n",
    "        data['Extracted_PRID'].append('NaN')\n",
    "    all_extracted_PRIDs.add(prid)\n",
    "\n",
    "    # print(all_extracted_PRIDs)\n",
    "    # input()\n",
    "df = pd.DataFrame(data)\n",
    "df.to_csv('extracted_PRIDs.csv', index=False)\n",
    "\n",
    "end_time = time.time()\n",
    "\n",
    "print(end_time - start_time)"
   ]
  },
  {
   "cell_type": "code",
   "execution_count": null,
   "metadata": {},
   "outputs": [],
   "source": []
  }
 ],
 "metadata": {
  "kernelspec": {
   "display_name": "sanjay",
   "language": "python",
   "name": "python3"
  },
  "language_info": {
   "codemirror_mode": {
    "name": "ipython",
    "version": 3
   },
   "file_extension": ".py",
   "mimetype": "text/x-python",
   "name": "python",
   "nbconvert_exporter": "python",
   "pygments_lexer": "ipython3",
   "version": "3.12.1"
  }
 },
 "nbformat": 4,
 "nbformat_minor": 2
}
