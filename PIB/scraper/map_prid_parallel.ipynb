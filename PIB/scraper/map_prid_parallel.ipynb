{
 "cells": [
  {
   "cell_type": "code",
   "execution_count": 1,
   "metadata": {},
   "outputs": [
    {
     "name": "stdout",
     "output_type": "stream",
     "text": [
      "18.471296072006226\n"
     ]
    }
   ],
   "source": [
    "import requests\n",
    "from bs4 import BeautifulSoup\n",
    "import pandas as pd\n",
    "import re\n",
    "import concurrent.futures\n",
    "import threading\n",
    "import time\n",
    "\n",
    "def extract_PRIDs_from_html(html_content):\n",
    "    soup = BeautifulSoup(html_content, 'html.parser')\n",
    "    prid_language_dict = {}\n",
    "    release_lang_divs = soup.find_all('div', class_='ReleaseLang')\n",
    "    for div in release_lang_divs:\n",
    "        language_tags = div.find_all('a')\n",
    "        for language_tag in language_tags:\n",
    "            language = language_tag.text.strip()\n",
    "            prid = None\n",
    "            prid_match = re.search(r'PRID=(\\d+)', str(language_tag))\n",
    "            if prid_match:\n",
    "                prid = prid_match.group(1)\n",
    "            prid_language_dict[language] = prid\n",
    "    return prid_language_dict if prid_language_dict else None\n",
    "\n",
    "start_time = time.time()\n",
    "base_url = 'https://pib.gov.in/PressReleasePage.aspx?PRID='\n",
    "start_prid = 1900000\n",
    "end_prid = 1900200\n",
    "\n",
    "data = {'Main_PRID': [], 'Language': [], 'Extracted_PRID': []}\n",
    "all_extracted_PRIDs = set()\n",
    "#lock = threading.Lock()\n",
    "\n",
    "def process_prid(prid):\n",
    "    prid = str(prid)\n",
    "    if prid in all_extracted_PRIDs:\n",
    "        return None\n",
    "    all_extracted_PRIDs.add(prid)\n",
    "\n",
    "    url = f'{base_url}{prid}'\n",
    "    response = requests.get(url)\n",
    "\n",
    "    if response.status_code == 200:\n",
    "        extracted_PRIDs = extract_PRIDs_from_html(response.text)\n",
    "        if extracted_PRIDs is not None:\n",
    "            for language, extracted_prid in extracted_PRIDs.items():\n",
    "                data['Main_PRID'].append(prid)\n",
    "                data['Language'].append(language)\n",
    "                data['Extracted_PRID'].append(extracted_prid)\n",
    "                all_extracted_PRIDs.add(extracted_prid)\n",
    "                all_extracted_PRIDs.add(prid)\n",
    "        else:\n",
    "            data['Main_PRID'].append(prid)\n",
    "            data['Language'].append('NaN')\n",
    "            data['Extracted_PRID'].append('NaN')\n",
    "    else:\n",
    "        data['Main_PRID'].append(prid)\n",
    "        data['Language'].append('NaN')\n",
    "        data['Extracted_PRID'].append('NaN')\n",
    "    all_extracted_PRIDs.add(prid)\n",
    "\n",
    "with concurrent.futures.ThreadPoolExecutor(max_workers=10) as executor:\n",
    "    executor.map(process_prid, range(start_prid, end_prid + 1))\n",
    "\n",
    "df = pd.DataFrame(data)\n",
    "df.to_csv('extracted_PRIDs_parallel.csv', index=False)\n",
    "\n",
    "end_time = time.time()\n",
    "print(end_time - start_time)"
   ]
  },
  {
   "cell_type": "code",
   "execution_count": null,
   "metadata": {},
   "outputs": [],
   "source": []
  }
 ],
 "metadata": {
  "kernelspec": {
   "display_name": "sanjay",
   "language": "python",
   "name": "python3"
  },
  "language_info": {
   "codemirror_mode": {
    "name": "ipython",
    "version": 3
   },
   "file_extension": ".py",
   "mimetype": "text/x-python",
   "name": "python",
   "nbconvert_exporter": "python",
   "pygments_lexer": "ipython3",
   "version": "3.12.1"
  }
 },
 "nbformat": 4,
 "nbformat_minor": 2
}
