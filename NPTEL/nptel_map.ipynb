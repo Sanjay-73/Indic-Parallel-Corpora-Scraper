{
 "cells": [
  {
   "cell_type": "code",
   "execution_count": 29,
   "metadata": {},
   "outputs": [],
   "source": [
    "#sort based on GDrive Link\n",
    "import pandas as pd\n",
    "\n",
    "file_path = '/home/safi/sanjay/NPTEL/scraped_content/nptel_english.csv'\n",
    "\n",
    "df = pd.read_csv(file_path)\n",
    "\n",
    "df.sort_values(by='Link', inplace=True)\n",
    "\n",
    "df.to_csv(file_path, index=False)\n"
   ]
  },
  {
   "cell_type": "code",
   "execution_count": 28,
   "metadata": {},
   "outputs": [],
   "source": [
    "#code to map PDF Number\n",
    "import pandas as pd\n",
    "\n",
    "file_path = '/home/safi/sanjay/NPTEL/scraped_content/nptel_english.csv'\n",
    "\n",
    "df = pd.read_csv(file_path)\n",
    "\n",
    "df.insert(0, 'PDF Number', df.index.map('{0}.pdf'.format))\n",
    "\n",
    "df.to_csv(file_path, index=False)"
   ]
  },
  {
   "cell_type": "code",
   "execution_count": null,
   "metadata": {},
   "outputs": [],
   "source": []
  }
 ],
 "metadata": {
  "kernelspec": {
   "display_name": "sanjay",
   "language": "python",
   "name": "python3"
  },
  "language_info": {
   "codemirror_mode": {
    "name": "ipython",
    "version": 3
   },
   "file_extension": ".py",
   "mimetype": "text/x-python",
   "name": "python",
   "nbconvert_exporter": "python",
   "pygments_lexer": "ipython3",
   "version": "3.12.1"
  }
 },
 "nbformat": 4,
 "nbformat_minor": 2
}
