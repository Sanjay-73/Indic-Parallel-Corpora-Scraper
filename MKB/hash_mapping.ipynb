{
 "cells": [
  {
   "cell_type": "markdown",
   "metadata": {},
   "source": [
    "Code to replace the 'doc_id' with the hashcodes generated using SHA-1"
   ]
  },
  {
   "cell_type": "code",
   "execution_count": null,
   "metadata": {},
   "outputs": [],
   "source": [
    "import os\n",
    "import json\n",
    "import csv\n",
    "\n",
    "# Path to the updated CSV file\n",
    "updated_csv_path = \"/home/sanjay/MKB/hash_codes.csv\"\n",
    "\n",
    "# Directory path containing the JSON files\n",
    "json_directory_path = \"/home/sanjay/MKB/mkb_schema_final\"\n",
    "\n",
    "# Read the updated CSV file\n",
    "with open(updated_csv_path, 'r') as csv_file:\n",
    "    reader = csv.DictReader(csv_file)\n",
    "\n",
    "    # Create a dictionary to store filename-hash_code mappings\n",
    "    filename_hash_mapping = {os.path.splitext(row['filename'])[0]: row['hash_code'] for row in reader}\n",
    "\n",
    "# Iterate through each JSON file in the directory\n",
    "for json_filename in os.listdir(json_directory_path):\n",
    "    if json_filename.endswith(\".json\"):\n",
    "        json_filepath = os.path.join(json_directory_path, json_filename)\n",
    "\n",
    "        # Read the JSON file\n",
    "        with open(json_filepath, 'r', encoding='utf-8') as json_file:\n",
    "            data = json.load(json_file)\n",
    "\n",
    "        # Extract the current \"doc_id\" value\n",
    "        current_doc_id = data.get('doc_id', None)\n",
    "\n",
    "        # If \"doc_id\" is present and matches a filename in the CSV mapping\n",
    "        if current_doc_id and str(current_doc_id) in filename_hash_mapping:\n",
    "            # Replace the \"doc_id\" with the corresponding hash code\n",
    "            data['doc_id'] = filename_hash_mapping[str(current_doc_id)]\n",
    "\n",
    "            # Write the updated JSON back to the file\n",
    "            with open(json_filepath, 'w', encoding='utf-8') as updated_json_file:\n",
    "                json.dump(data, updated_json_file, ensure_ascii=False, indent=2)\n",
    "\n",
    "print(\"Doc_id values updated in JSON files.\")\n"
   ]
  },
  {
   "cell_type": "code",
   "execution_count": null,
   "metadata": {},
   "outputs": [],
   "source": []
  }
 ],
 "metadata": {
  "kernelspec": {
   "display_name": "Python 3",
   "language": "python",
   "name": "python3"
  },
  "language_info": {
   "codemirror_mode": {
    "name": "ipython",
    "version": 3
   },
   "file_extension": ".py",
   "mimetype": "text/x-python",
   "name": "python",
   "nbconvert_exporter": "python",
   "pygments_lexer": "ipython3",
   "version": "3.11.0"
  }
 },
 "nbformat": 4,
 "nbformat_minor": 2
}
